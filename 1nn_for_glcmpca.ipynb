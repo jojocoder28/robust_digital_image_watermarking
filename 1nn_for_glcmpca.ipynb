{
 "cells": [
  {
   "cell_type": "code",
   "execution_count": 28,
   "metadata": {},
   "outputs": [],
   "source": [
    "import torch\n",
    "import torch.nn as nn\n",
    "import torch.optim as optim\n",
    "import numpy as np\n",
    "import pandas as pd\n",
    "import matplotlib.pyplot as plt\n",
    "import cv2\n",
    "from sklearn.model_selection import train_test_split\n",
    "from sklearn.preprocessing import StandardScaler\n",
    "from sklearn.metrics import accuracy_score, confusion_matrix"
   ]
  },
  {
   "cell_type": "code",
   "execution_count": 29,
   "metadata": {},
   "outputs": [],
   "source": [
    "class Model(nn.Module):\n",
    "    def __init__(self,insize,outsize):\n",
    "        super().__init__()\n",
    "        self.hidden1=nn.Linear(insize,320)\n",
    "        self.act1=nn.ReLU()\n",
    "        self.hidden2=nn.Linear(320,160)\n",
    "        self.act2=nn.ReLU()\n",
    "        self.hidden3=nn.Linear(160,40)\n",
    "        self.act3=nn.ReLU()\n",
    "        self.hidden4=nn.Linear(40,32)\n",
    "        self.act4=nn.ReLU()\n",
    "        self.hidden5=nn.Linear(32,8)\n",
    "        self.act5=nn.ReLU()\n",
    "        self.hidden6=nn.Linear(8,outsize)\n",
    "        self.act6=nn.Sigmoid()\n",
    "    def forward(self,x):\n",
    "        x=self.act1(self.hidden1(x))\n",
    "        x=self.act2(self.hidden2(x))\n",
    "        x=self.act3(self.hidden3(x))\n",
    "        x=self.act4(self.hidden4(x))\n",
    "        x=self.act5(self.hidden5(x))\n",
    "        x=self.act6(self.hidden6(x))\n",
    "        return x\n"
   ]
  },
  {
   "cell_type": "code",
   "execution_count": 30,
   "metadata": {},
   "outputs": [
    {
     "data": {
      "text/plain": [
       "Model(\n",
       "  (hidden1): Linear(in_features=200, out_features=320, bias=True)\n",
       "  (act1): ReLU()\n",
       "  (hidden2): Linear(in_features=320, out_features=160, bias=True)\n",
       "  (act2): ReLU()\n",
       "  (hidden3): Linear(in_features=160, out_features=40, bias=True)\n",
       "  (act3): ReLU()\n",
       "  (hidden4): Linear(in_features=40, out_features=32, bias=True)\n",
       "  (act4): ReLU()\n",
       "  (hidden5): Linear(in_features=32, out_features=8, bias=True)\n",
       "  (act5): ReLU()\n",
       "  (hidden6): Linear(in_features=8, out_features=2, bias=True)\n",
       "  (act6): Sigmoid()\n",
       ")"
      ]
     },
     "execution_count": 30,
     "metadata": {},
     "output_type": "execute_result"
    }
   ],
   "source": [
    "model=Model(200,2)\n",
    "model.eval()"
   ]
  },
  {
   "cell_type": "code",
   "execution_count": 31,
   "metadata": {},
   "outputs": [
    {
     "data": {
      "text/html": [
       "<div>\n",
       "<style scoped>\n",
       "    .dataframe tbody tr th:only-of-type {\n",
       "        vertical-align: middle;\n",
       "    }\n",
       "\n",
       "    .dataframe tbody tr th {\n",
       "        vertical-align: top;\n",
       "    }\n",
       "\n",
       "    .dataframe thead th {\n",
       "        text-align: right;\n",
       "    }\n",
       "</style>\n",
       "<table border=\"1\" class=\"dataframe\">\n",
       "  <thead>\n",
       "    <tr style=\"text-align: right;\">\n",
       "      <th></th>\n",
       "      <th>Unnamed: 0</th>\n",
       "      <th>0</th>\n",
       "      <th>1</th>\n",
       "      <th>2</th>\n",
       "      <th>3</th>\n",
       "      <th>4</th>\n",
       "      <th>5</th>\n",
       "      <th>6</th>\n",
       "      <th>7</th>\n",
       "      <th>8</th>\n",
       "      <th>...</th>\n",
       "      <th>191</th>\n",
       "      <th>192</th>\n",
       "      <th>193</th>\n",
       "      <th>194</th>\n",
       "      <th>195</th>\n",
       "      <th>196</th>\n",
       "      <th>197</th>\n",
       "      <th>198</th>\n",
       "      <th>199</th>\n",
       "      <th>200</th>\n",
       "    </tr>\n",
       "  </thead>\n",
       "  <tbody>\n",
       "    <tr>\n",
       "      <th>0</th>\n",
       "      <td>0</td>\n",
       "      <td>-3.970801</td>\n",
       "      <td>-90.219696</td>\n",
       "      <td>-45.437277</td>\n",
       "      <td>70.400459</td>\n",
       "      <td>32.454718</td>\n",
       "      <td>-43.263047</td>\n",
       "      <td>-55.026636</td>\n",
       "      <td>14.504374</td>\n",
       "      <td>49.632594</td>\n",
       "      <td>...</td>\n",
       "      <td>2.995869</td>\n",
       "      <td>-1.446273</td>\n",
       "      <td>0.145844</td>\n",
       "      <td>4.812262</td>\n",
       "      <td>-2.565947</td>\n",
       "      <td>0.931057</td>\n",
       "      <td>5.580389</td>\n",
       "      <td>-1.810605</td>\n",
       "      <td>-9.299060</td>\n",
       "      <td>0</td>\n",
       "    </tr>\n",
       "    <tr>\n",
       "      <th>1</th>\n",
       "      <td>1</td>\n",
       "      <td>150.687179</td>\n",
       "      <td>-92.253366</td>\n",
       "      <td>-36.780443</td>\n",
       "      <td>-21.587428</td>\n",
       "      <td>-40.188326</td>\n",
       "      <td>-10.442911</td>\n",
       "      <td>-31.239209</td>\n",
       "      <td>3.679613</td>\n",
       "      <td>-17.815154</td>\n",
       "      <td>...</td>\n",
       "      <td>6.215410</td>\n",
       "      <td>3.242948</td>\n",
       "      <td>-14.543323</td>\n",
       "      <td>17.354123</td>\n",
       "      <td>-3.323724</td>\n",
       "      <td>4.690492</td>\n",
       "      <td>-2.308038</td>\n",
       "      <td>-4.413196</td>\n",
       "      <td>-13.586323</td>\n",
       "      <td>0</td>\n",
       "    </tr>\n",
       "    <tr>\n",
       "      <th>2</th>\n",
       "      <td>2</td>\n",
       "      <td>15.883242</td>\n",
       "      <td>83.780857</td>\n",
       "      <td>-86.653360</td>\n",
       "      <td>7.202755</td>\n",
       "      <td>7.741978</td>\n",
       "      <td>0.390929</td>\n",
       "      <td>46.106146</td>\n",
       "      <td>-9.898993</td>\n",
       "      <td>-33.774234</td>\n",
       "      <td>...</td>\n",
       "      <td>1.306046</td>\n",
       "      <td>2.051018</td>\n",
       "      <td>4.305764</td>\n",
       "      <td>-0.454097</td>\n",
       "      <td>0.252460</td>\n",
       "      <td>-0.790770</td>\n",
       "      <td>1.040472</td>\n",
       "      <td>0.792612</td>\n",
       "      <td>-1.082138</td>\n",
       "      <td>0</td>\n",
       "    </tr>\n",
       "    <tr>\n",
       "      <th>3</th>\n",
       "      <td>3</td>\n",
       "      <td>-30.901043</td>\n",
       "      <td>-3.935036</td>\n",
       "      <td>47.714830</td>\n",
       "      <td>18.579831</td>\n",
       "      <td>-21.884824</td>\n",
       "      <td>4.277487</td>\n",
       "      <td>-14.898174</td>\n",
       "      <td>-11.523572</td>\n",
       "      <td>-19.178420</td>\n",
       "      <td>...</td>\n",
       "      <td>1.395771</td>\n",
       "      <td>0.510259</td>\n",
       "      <td>3.100186</td>\n",
       "      <td>-0.741926</td>\n",
       "      <td>-2.528742</td>\n",
       "      <td>-2.174834</td>\n",
       "      <td>-2.283928</td>\n",
       "      <td>6.955956</td>\n",
       "      <td>2.796807</td>\n",
       "      <td>0</td>\n",
       "    </tr>\n",
       "    <tr>\n",
       "      <th>4</th>\n",
       "      <td>4</td>\n",
       "      <td>29.625496</td>\n",
       "      <td>63.016158</td>\n",
       "      <td>-46.122664</td>\n",
       "      <td>-23.263225</td>\n",
       "      <td>26.408949</td>\n",
       "      <td>-24.197561</td>\n",
       "      <td>21.742538</td>\n",
       "      <td>-8.627393</td>\n",
       "      <td>16.002553</td>\n",
       "      <td>...</td>\n",
       "      <td>-0.890465</td>\n",
       "      <td>4.892572</td>\n",
       "      <td>0.130623</td>\n",
       "      <td>4.393123</td>\n",
       "      <td>-2.922084</td>\n",
       "      <td>-4.531249</td>\n",
       "      <td>-0.351662</td>\n",
       "      <td>-2.266072</td>\n",
       "      <td>2.957495</td>\n",
       "      <td>0</td>\n",
       "    </tr>\n",
       "  </tbody>\n",
       "</table>\n",
       "<p>5 rows × 202 columns</p>\n",
       "</div>"
      ],
      "text/plain": [
       "   Unnamed: 0           0          1          2          3          4   \n",
       "0           0   -3.970801 -90.219696 -45.437277  70.400459  32.454718  \\\n",
       "1           1  150.687179 -92.253366 -36.780443 -21.587428 -40.188326   \n",
       "2           2   15.883242  83.780857 -86.653360   7.202755   7.741978   \n",
       "3           3  -30.901043  -3.935036  47.714830  18.579831 -21.884824   \n",
       "4           4   29.625496  63.016158 -46.122664 -23.263225  26.408949   \n",
       "\n",
       "           5          6          7          8  ...       191       192   \n",
       "0 -43.263047 -55.026636  14.504374  49.632594  ...  2.995869 -1.446273  \\\n",
       "1 -10.442911 -31.239209   3.679613 -17.815154  ...  6.215410  3.242948   \n",
       "2   0.390929  46.106146  -9.898993 -33.774234  ...  1.306046  2.051018   \n",
       "3   4.277487 -14.898174 -11.523572 -19.178420  ...  1.395771  0.510259   \n",
       "4 -24.197561  21.742538  -8.627393  16.002553  ... -0.890465  4.892572   \n",
       "\n",
       "         193        194       195       196       197       198        199   \n",
       "0   0.145844   4.812262 -2.565947  0.931057  5.580389 -1.810605  -9.299060  \\\n",
       "1 -14.543323  17.354123 -3.323724  4.690492 -2.308038 -4.413196 -13.586323   \n",
       "2   4.305764  -0.454097  0.252460 -0.790770  1.040472  0.792612  -1.082138   \n",
       "3   3.100186  -0.741926 -2.528742 -2.174834 -2.283928  6.955956   2.796807   \n",
       "4   0.130623   4.393123 -2.922084 -4.531249 -0.351662 -2.266072   2.957495   \n",
       "\n",
       "   200  \n",
       "0    0  \n",
       "1    0  \n",
       "2    0  \n",
       "3    0  \n",
       "4    0  \n",
       "\n",
       "[5 rows x 202 columns]"
      ]
     },
     "execution_count": 31,
     "metadata": {},
     "output_type": "execute_result"
    }
   ],
   "source": [
    "df=pd.read_csv('./Output/glcmpca1000pca200.csv')\n",
    "df.head()"
   ]
  },
  {
   "cell_type": "code",
   "execution_count": 32,
   "metadata": {},
   "outputs": [],
   "source": [
    "x=df.iloc[:,1:201].values\n",
    "y=df.iloc[:,-1].values\n",
    "x=torch.FloatTensor(x)\n",
    "y=torch.LongTensor(y)"
   ]
  },
  {
   "cell_type": "code",
   "execution_count": 33,
   "metadata": {},
   "outputs": [],
   "source": [
    "# x"
   ]
  },
  {
   "cell_type": "code",
   "execution_count": 34,
   "metadata": {},
   "outputs": [],
   "source": [
    "xtrain,xtest,ytrain,ytest=train_test_split(x,y,test_size=0.2)\n",
    "sc=StandardScaler()\n",
    "xtrain=sc.fit_transform(xtrain)\n",
    "xtest=sc.transform(xtest)\n",
    "xtrain=torch.FloatTensor(xtrain)\n",
    "xtest=torch.FloatTensor(xtest)"
   ]
  },
  {
   "cell_type": "code",
   "execution_count": 35,
   "metadata": {},
   "outputs": [],
   "source": [
    "optimizer=optim.Adam(model.parameters(),lr=0.001)\n",
    "loss=nn.CrossEntropyLoss()\n",
    "nepoch=50\n",
    "batch_size=10"
   ]
  },
  {
   "cell_type": "code",
   "execution_count": 36,
   "metadata": {},
   "outputs": [
    {
     "name": "stdout",
     "output_type": "stream",
     "text": [
      "Epoch 1/50, train loss : 0.6791\n",
      "Epoch 2/50, train loss : 0.5800\n",
      "Epoch 3/50, train loss : 0.5103\n",
      "Epoch 4/50, train loss : 0.3134\n",
      "Epoch 5/50, train loss : 0.3149\n",
      "Epoch 6/50, train loss : 0.3139\n",
      "Epoch 7/50, train loss : 0.4137\n",
      "Epoch 8/50, train loss : 0.4135\n",
      "Epoch 9/50, train loss : 0.3147\n",
      "Epoch 10/50, train loss : 0.3135\n",
      "Epoch 11/50, train loss : 0.3136\n",
      "Epoch 12/50, train loss : 0.3481\n",
      "Epoch 13/50, train loss : 0.3133\n",
      "Epoch 14/50, train loss : 0.3136\n",
      "Epoch 15/50, train loss : 0.3133\n",
      "Epoch 16/50, train loss : 0.3133\n",
      "Epoch 17/50, train loss : 0.3142\n",
      "Epoch 18/50, train loss : 0.3133\n",
      "Epoch 19/50, train loss : 0.3133\n",
      "Epoch 20/50, train loss : 0.3133\n",
      "Epoch 21/50, train loss : 0.3133\n",
      "Epoch 22/50, train loss : 0.3133\n",
      "Epoch 23/50, train loss : 0.3133\n",
      "Epoch 24/50, train loss : 0.3134\n",
      "Epoch 25/50, train loss : 0.3133\n",
      "Epoch 26/50, train loss : 0.3133\n",
      "Epoch 27/50, train loss : 0.3133\n",
      "Epoch 28/50, train loss : 0.3133\n",
      "Epoch 29/50, train loss : 0.3133\n",
      "Epoch 30/50, train loss : 0.3133\n",
      "Epoch 31/50, train loss : 0.3133\n",
      "Epoch 32/50, train loss : 0.3133\n",
      "Epoch 33/50, train loss : 0.3133\n",
      "Epoch 34/50, train loss : 0.3133\n",
      "Epoch 35/50, train loss : 0.3133\n",
      "Epoch 36/50, train loss : 0.3133\n",
      "Epoch 37/50, train loss : 0.3133\n",
      "Epoch 38/50, train loss : 0.3133\n",
      "Epoch 39/50, train loss : 0.3133\n",
      "Epoch 40/50, train loss : 0.3133\n",
      "Epoch 41/50, train loss : 0.3133\n",
      "Epoch 42/50, train loss : 0.3133\n",
      "Epoch 43/50, train loss : 0.3133\n",
      "Epoch 44/50, train loss : 0.3133\n",
      "Epoch 45/50, train loss : 0.3133\n",
      "Epoch 46/50, train loss : 0.3133\n",
      "Epoch 47/50, train loss : 0.3133\n",
      "Epoch 48/50, train loss : 0.3133\n",
      "Epoch 49/50, train loss : 0.3133\n",
      "Epoch 50/50, train loss : 0.3133\n"
     ]
    }
   ],
   "source": [
    "trainlosses=np.zeros(nepoch)\n",
    "for epoch in range(nepoch):\n",
    "    resloss=0\n",
    "    for i in range(0,len(xtrain),batch_size):\n",
    "        optimizer.zero_grad()\n",
    "        xbatch=xtrain[i:i+batch_size]\n",
    "        ypred=model(xbatch)\n",
    "        trainloss=loss(ypred,ytrain[i:i+batch_size])\n",
    "        trainloss.backward()\n",
    "        optimizer.step()\n",
    "        resloss+=trainloss.item()\n",
    "    trainlosses[epoch]=resloss\n",
    "    print(f\"Epoch {epoch+1}/{nepoch}, train loss : {trainloss.item():.4f}\")"
   ]
  },
  {
   "cell_type": "code",
   "execution_count": 37,
   "metadata": {},
   "outputs": [
    {
     "data": {
      "image/png": "[encoded data removed]",
      "text/plain": [
       "<Figure size 1000x1000 with 1 Axes>"
      ]
     },
     "metadata": {},
     "output_type": "display_data"
    }
   ],
   "source": [
    "import matplotlib.pyplot as plt\n",
    "plt.figure(figsize=(10,10))\n",
    "plt.plot(trainlosses,label='train loss')\n",
    "plt.legend()\n",
    "plt.show()"
   ]
  },
  {
   "cell_type": "code",
   "execution_count": 38,
   "metadata": {},
   "outputs": [
    {
     "name": "stdout",
     "output_type": "stream",
     "text": [
      "tensor(0.8000)\n"
     ]
    }
   ],
   "source": [
    "with torch.no_grad():\n",
    "    y_pred=model(xtest)\n",
    "y_pred=np.argmax(y_pred,axis=1)\n",
    "accuracy=(y_pred==ytest).float().mean()\n",
    "print(accuracy)"
   ]
  },
  {
   "cell_type": "code",
   "execution_count": 39,
   "metadata": {},
   "outputs": [
    {
     "data": {
      "text/plain": [
       "array([[174,  51],\n",
       "       [ 29, 146]], dtype=int64)"
      ]
     },
     "execution_count": 39,
     "metadata": {},
     "output_type": "execute_result"
    }
   ],
   "source": [
    "cf=confusion_matrix(y_pred,ytest)\n",
    "cf"
   ]
  },
  {
   "cell_type": "code",
   "execution_count": 40,
   "metadata": {},
   "outputs": [
    {
     "data": {
      "text/plain": [
       "0.22666666666666666"
      ]
     },
     "execution_count": 40,
     "metadata": {},
     "output_type": "execute_result"
    }
   ],
   "source": [
    "fp=cf[0][1]/(cf[0][1]+cf[0][0])\n",
    "fp"
   ]
  },
  {
   "cell_type": "code",
   "execution_count": 41,
   "metadata": {},
   "outputs": [
    {
     "data": {
      "text/plain": [
       "<Axes: >"
      ]
     },
     "execution_count": 41,
     "metadata": {},
     "output_type": "execute_result"
    },
    {
     "data": {
      "image/png": "[encoded data removed]",
      "text/plain": [
       "<Figure size 640x480 with 2 Axes>"
      ]
     },
     "metadata": {},
     "output_type": "display_data"
    }
   ],
   "source": [
    "import seaborn as sns\n",
    "sns.heatmap(cf)"
   ]
  },
  {
   "cell_type": "code",
   "execution_count": 47,
   "metadata": {},
   "outputs": [
    {
     "data": {
      "image/png": "[encoded data removed]",
      "text/plain": [
       "<Figure size 640x480 with 2 Axes>"
      ]
     },
     "metadata": {},
     "output_type": "display_data"
    }
   ],
   "source": [
    "cm=[[172,57],[20,151]]\n",
    "plt.title(\"ConfusionMatrix\")\n",
    "plt.xticks([0,1],[\"Actual Cover\",\"Actual Stego\"])\n",
    "plt.yticks([0,1],[\"Predicted Cover\",\"Predicted Stego\"])\n",
    "sns.heatmap(cm,annot=True,fmt=\".0f\")\n",
    "plt.show()"
   ]
  },
  {
   "cell_type": "code",
   "execution_count": 55,
   "metadata": {},
   "outputs": [
    {
     "data": {
      "image/png": "[encoded data removed]",
      "text/plain": [
       "<Figure size 640x480 with 1 Axes>"
      ]
     },
     "metadata": {},
     "output_type": "display_data"
    }
   ],
   "source": [
    "TP = 151\n",
    "FP = 57\n",
    "TN = 172\n",
    "FN = 20\n",
    "\n",
    "# Calculate true positive rate (sensitivity) and false positive rate\n",
    "tpr = TP / (TP + FN)\n",
    "fpr = FP / (FP + TN)\n",
    "x=[0,fpr,1]\n",
    "y=[0,tpr,1]\n",
    "# Plot ROC curve\n",
    "plt.plot(x, y, marker='o', label='ROC curve')\n",
    "\n",
    "# Plot diagonal line (random classifier)\n",
    "plt.plot([0, 1], [0, 1], linestyle='--', label='Random classifier')\n",
    "\n",
    "# Set labels and title\n",
    "plt.xlabel('False Positive Rate (FPR)')\n",
    "plt.ylabel('True Positive Rate (TPR)')\n",
    "plt.title('ROC Curve')\n",
    "plt.legend()\n",
    "\n",
    "# Show plot\n",
    "plt.show()"
   ]
  }
 ],
 "metadata": {
  "kernelspec": {
   "display_name": "Python 3",
   "language": "python",
   "name": "python3"
  },
  "language_info": {
   "codemirror_mode": {
    "name": "ipython",
    "version": 3
   },
   "file_extension": ".py",
   "mimetype": "text/x-python",
   "name": "python",
   "nbconvert_exporter": "python",
   "pygments_lexer": "ipython3",
   "version": "3.11.3"
  },
  "orig_nbformat": 4
 },
 "nbformat": 4,
 "nbformat_minor": 2
}
