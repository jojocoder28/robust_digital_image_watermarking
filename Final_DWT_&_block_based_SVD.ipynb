{
 "cells": [
  {
   "cell_type": "code",
   "execution_count": 47,
   "metadata": {},
   "outputs": [],
   "source": [
    "import cv2\n",
    "import numpy as np\n",
    "import matplotlib.pyplot as plt\n",
    "import pywt\n",
    "from math import log10, sqrt\n",
    "import os\n",
    "from skimage import exposure"
   ]
  },
  {
   "attachments": {},
   "cell_type": "markdown",
   "metadata": {},
   "source": [
    "* Embedding"
   ]
  },
  {
   "cell_type": "code",
   "execution_count": 48,
   "metadata": {},
   "outputs": [],
   "source": [
    "import random\n",
    "def hcf(a,b):\n",
    "    if(b%a==0):\n",
    "        return a\n",
    "    else:\n",
    "        return hcf(b%a,a)\n",
    "def randomseq(size):\n",
    "    random.seed(size)\n",
    "    \n",
    "    num=[x for x in range(size)]\n",
    "    h=len(num)\n",
    "    for m in range(h):\n",
    "        if m>2:\n",
    "            r=hcf(m,h)\n",
    "            if r==1:\n",
    "                break \n",
    "    i=random.randint(0,size-1)    \n",
    "    x=i\n",
    "    res=[]\n",
    "    while True:\n",
    "        i=(i+m)%h\n",
    "        if i==x:\n",
    "            break\n",
    "        res.append(i)\n",
    "        \n",
    "    res.append(x)\n",
    "    return res"
   ]
  },
  {
   "cell_type": "code",
   "execution_count": 49,
   "metadata": {},
   "outputs": [],
   "source": [
    "def embedding(img,wtr_img):\n",
    "    wrow,wcol=wtr_img.shape\n",
    "    LL,(HL,LH,HH)=pywt.dwt2(img,wavelet='haar')\n",
    "    l2x2=LL.reshape(-1,2,2)\n",
    "    sstore=[]\n",
    "    ustore=[]\n",
    "    vstore=[]\n",
    "    for i in l2x2:\n",
    "        u,s,v=np.linalg.svd(i)\n",
    "        ustore.append(u)\n",
    "        vstore.append(v)\n",
    "        sstore.append(s)\n",
    "    ss=np.array(sstore)\n",
    "    ss_backup=ss.copy()\n",
    "    h2x2=HH.reshape(-1,2,2) #Store the ss_backup into HH\n",
    "    uu=[]\n",
    "    sss=ss_backup.ravel()\n",
    "    maxs=max(sss)\n",
    "    stemp=[]\n",
    "    vv=[]\n",
    "    newHH=[]\n",
    "    for i in h2x2:\n",
    "        u,s,v=np.linalg.svd(i)\n",
    "        uu.append(u)\n",
    "        vv.append(v)\n",
    "        stemp.append(s)\n",
    "    stemp=np.array(stemp)\n",
    "    stemp=ss_backup\n",
    "    for i in range(len(stemp)):\n",
    "        u=uu[i]\n",
    "        v=vv[i]\n",
    "        s=stemp[i]/maxs\n",
    "        temp=u@np.diag(s)@v\n",
    "        newHH.append(temp)\n",
    "    newHH=np.array(newHH)\n",
    "    newHH=newHH.ravel()\n",
    "    newHH=newHH.reshape(256,256)\n",
    "    HH=newHH\n",
    "    wtr_list=wtr_img.ravel()\n",
    "    j=0\n",
    "    seqnum=randomseq(wrow*wcol)\n",
    "    for i in seqnum:\n",
    "        ss[i][0]+=wtr_list[j]/256\n",
    "        j+=1    \n",
    "    newll=[]\n",
    "    for i in range(len(ss)):\n",
    "        u=ustore[i]\n",
    "        v=vstore[i]\n",
    "        s=ss[i]\n",
    "        temp=u@np.diag(s)@v\n",
    "        newll.append(temp)\n",
    "    newll=np.array(newll)\n",
    "    newll=newll.ravel()\n",
    "    row,col=LL.shape\n",
    "    newll=newll.reshape(row,col)\n",
    "    watermarked_img=pywt.idwt2((newll,(HL,LH,HH)),wavelet='haar')\n",
    "    return watermarked_img,maxs"
   ]
  },
  {
   "attachments": {},
   "cell_type": "markdown",
   "metadata": {},
   "source": [
    "* Watermark Extraction"
   ]
  },
  {
   "cell_type": "code",
   "execution_count": 50,
   "metadata": {},
   "outputs": [],
   "source": [
    "def recover(watermarked_img,maxs,wrow,wcol):\n",
    "    dLL,(dHL,dLH,dHH)=pywt.dwt2(watermarked_img,wavelet='haar')\n",
    "    dl2x2=dLL.reshape(-1,2,2)\n",
    "    dh2x2=dHH.reshape(-1,2,2)\n",
    "    sstore2=[]\n",
    "    ustore=[]\n",
    "    vstore=[]\n",
    "    uu2=[]\n",
    "    vv2=[]\n",
    "    ss2=[]\n",
    "    for i in dh2x2:\n",
    "        u,s,v=np.linalg.svd(i)\n",
    "        # s=s.round()\n",
    "        uu2.append(u)\n",
    "        vv2.append(v)\n",
    "        ss2.append(s*maxs)\n",
    "    ss2=np.array(ss2)\n",
    "    for i in dl2x2:\n",
    "        u,s,v=np.linalg.svd(i)\n",
    "        # s=s.round()\n",
    "        ustore.append(u)\n",
    "        vstore.append(v)\n",
    "        sstore2.append(s)\n",
    "    sstore2=np.array(sstore2)\n",
    "    rec_wtr=[]\n",
    "    seqnum=randomseq(wrow*wcol)\n",
    "    for i in seqnum:\n",
    "        temp=(sstore2[i][0]-ss2[i][0])*256\n",
    "        rec_wtr.append(temp)\n",
    "    rec_wtr=np.array(rec_wtr)\n",
    "    final_img=rec_wtr.reshape(wrow,wcol)\n",
    "    temp_im=np.round(final_img)\n",
    "    for i in range(len(temp_im)):\n",
    "        for j in range(len(temp_im[0])):\n",
    "            temp_im[i][j]=int(temp_im[i][j])\n",
    "    return temp_im"
   ]
  },
  {
   "cell_type": "markdown",
   "metadata": {},
   "source": [
    "* Load Images"
   ]
  },
  {
   "cell_type": "code",
   "execution_count": 51,
   "metadata": {},
   "outputs": [],
   "source": [
    "def img_read(x):\n",
    "    img=cv2.imread(x,0)\n",
    "    return img\n",
    "def watermark_read(x):\n",
    "    wtr_img=cv2.imread(x,0)\n",
    "    wtr_img=cv2.resize(wtr_img,(32,32))\n",
    "    return wtr_img"
   ]
  },
  {
   "attachments": {},
   "cell_type": "markdown",
   "metadata": {},
   "source": [
    "* Testing"
   ]
  },
  {
   "attachments": {},
   "cell_type": "markdown",
   "metadata": {},
   "source": [
    "* Results"
   ]
  },
  {
   "cell_type": "code",
   "execution_count": 52,
   "metadata": {},
   "outputs": [],
   "source": [
    "from sklearn.metrics import mean_squared_error\n",
    "from skimage.metrics import structural_similarity\n",
    "from PIL import Image\n",
    "\n",
    "def ssim(name,name1):\n",
    "    return structural_similarity(name,name1)\n",
    "def PSNR(original, compressed):\n",
    "    mse = np.mean((original - compressed) ** 2)\n",
    "    try:\n",
    "        max_pixel = 255.0\n",
    "        psnr = 20 * log10(max_pixel / sqrt(mse))\n",
    "        return psnr\n",
    "    except:\n",
    "        return -9999  #When MSE is Zero, i.e, no noise is present in the image\n",
    "def norm_data(data):\n",
    "    mean_data=np.mean(data)\n",
    "    std_data=np.std(data,ddof=1)\n",
    "    return (data-mean_data)/(std_data)\n",
    "def ncc(data0,data1):\n",
    "    c=(1.0/(data0.size-1))*np.sum(norm_data(data0)*norm_data(data1))\n",
    "    return c"
   ]
  },
  {
   "cell_type": "code",
   "execution_count": 53,
   "metadata": {},
   "outputs": [],
   "source": [
    "# print(\"PSNR of Cover Image : \",PSNR(img,watermarked_img))\n",
    "# print(\"PSNR of watermark : \",PSNR(wtr_img,extracted_img))\n",
    "# print(\"MSE of Original Image : \",mean_squared_error(img,watermarked_img))\n",
    "# print(\"MSE of Watermark Image : \",mean_squared_error(wtr_img,extracted_img))"
   ]
  },
  {
   "attachments": {},
   "cell_type": "markdown",
   "metadata": {},
   "source": [
    "* Various Attacks"
   ]
  },
  {
   "cell_type": "code",
   "execution_count": 54,
   "metadata": {},
   "outputs": [],
   "source": [
    "def salt_pepper(img,p):\n",
    "    new=img.copy()\n",
    "    x,y=img.shape\n",
    "    pixels=int(x*y*p)\n",
    "    sp=[]\n",
    "    for i in range(pixels):\n",
    "        sp.append((random.randint(0,y-1),random.randint(0,x-1),random.choice([0,255])))\n",
    "    for i,j,v in sp:\n",
    "        new[i,j]=v\n",
    "    return new"
   ]
  },
  {
   "cell_type": "code",
   "execution_count": 55,
   "metadata": {},
   "outputs": [],
   "source": [
    "def gauss_noise(img,mean,variance):\n",
    "    s=variance**2\n",
    "    x,y=img.shape\n",
    "    r=np.random.normal(mean,s,(y,x))\n",
    "    return img+r"
   ]
  },
  {
   "cell_type": "code",
   "execution_count": 56,
   "metadata": {},
   "outputs": [],
   "source": [
    "def crop(img,d):\n",
    "    new=img.copy()\n",
    "    x,y=img.shape\n",
    "    x1=(x-d)//2\n",
    "    y1=(y-d)//2\n",
    "    new[y1:y1+d,x1:x1+d]=255\n",
    "    return new"
   ]
  },
  {
   "cell_type": "code",
   "execution_count": 57,
   "metadata": {},
   "outputs": [],
   "source": [
    "def jpeg_conversion(name,img,qf):\n",
    "    new=Image.fromarray(img)\n",
    "    new.save(name,quality=qf)"
   ]
  },
  {
   "attachments": {},
   "cell_type": "markdown",
   "metadata": {},
   "source": [
    "* Applying Attacks"
   ]
  },
  {
   "cell_type": "code",
   "execution_count": 58,
   "metadata": {},
   "outputs": [],
   "source": [
    "def allatk(im,name):\n",
    "    images=[]\n",
    "    images.append(crop(im,50))\n",
    "    images.append(gauss_noise(im,1,2))\n",
    "    # images.append(cv2.imwrite(f'./Output/METHOD1/jpeg/{name}.jpeg',im))\n",
    "    images.append(salt_pepper(im,0.001))\n",
    "    images.append(cv2.equalizeHist(im))\n",
    "    images.append(cv2.rotate(im,cv2.ROTATE_90_CLOCKWISE))\n",
    "    return images"
   ]
  },
  {
   "cell_type": "code",
   "execution_count": 59,
   "metadata": {},
   "outputs": [],
   "source": [
    "# t1=gauss_noise(watermarked_img,0,0.01)\n",
    "# plt.imshow(t1,cmap='gray')"
   ]
  },
  {
   "cell_type": "code",
   "execution_count": 60,
   "metadata": {},
   "outputs": [],
   "source": [
    "# im2=extraction(t1,stego_key,wrow,wcol)\n",
    "# plt.imshow(im2,cmap='gray')\n",
    "# PSNR(wtr_img,im2)"
   ]
  },
  {
   "cell_type": "code",
   "execution_count": 61,
   "metadata": {},
   "outputs": [],
   "source": [
    "def rotateMatrix(matrix):\n",
    "    mat=matrix.copy()\n",
    "    if not len(mat):\n",
    "        return\n",
    "     \n",
    "    \"\"\"\n",
    "        top : starting row index\n",
    "        bottom : ending row index\n",
    "        left : starting column index\n",
    "        right : ending column index\n",
    "    \"\"\"\n",
    " \n",
    "    top = 0\n",
    "    bottom = len(mat)-1\n",
    " \n",
    "    left = 0\n",
    "    right = len(mat[0])-1\n",
    " \n",
    "    while left < right and top < bottom:\n",
    " \n",
    "        # Store the first element of next row,\n",
    "        # this element will replace first element of\n",
    "        # current row\n",
    "        prev = mat[top+1][left]\n",
    " \n",
    "        # Move elements of top row one step right\n",
    "        for i in range(left, right+1):\n",
    "            curr = mat[top][i]\n",
    "            mat[top][i] = prev\n",
    "            prev = curr\n",
    " \n",
    "        top += 1\n",
    " \n",
    "        # Move elements of rightmost column one step downwards\n",
    "        for i in range(top, bottom+1):\n",
    "            curr = mat[i][right]\n",
    "            mat[i][right] = prev\n",
    "            prev = curr\n",
    " \n",
    "        right -= 1\n",
    " \n",
    "        # Move elements of bottom row one step left\n",
    "        for i in range(right, left-1, -1):\n",
    "            curr = mat[bottom][i]\n",
    "            mat[bottom][i] = prev\n",
    "            prev = curr\n",
    " \n",
    "        bottom -= 1\n",
    " \n",
    "        # Move elements of leftmost column one step upwards\n",
    "        for i in range(bottom, top-1, -1):\n",
    "            curr = mat[i][left]\n",
    "            mat[i][left] = prev\n",
    "            prev = curr\n",
    " \n",
    "        left += 1\n",
    " \n",
    "    return mat"
   ]
  },
  {
   "cell_type": "code",
   "execution_count": 62,
   "metadata": {},
   "outputs": [],
   "source": [
    "def medianfilter(img):\n",
    "    im=img.copy()\n",
    "    rows=im.shape[0]\n",
    "    cols=im.shape[1]\n",
    "    for i in range(1,rows-1):\n",
    "        for j in range(1,cols-1):\n",
    "            temp_array=[im[i][j],im[i-1][j],im[i+1][j],im[i][j-1],im[i][j+1],im[i-1][j-1],im[i-1][j+1],im[i+1][j-1],im[i+1][j+1]]\n",
    "            temp_array.sort()\n",
    "            # print(temp_array)\n",
    "            im[i][j]=temp_array[4]\n",
    "            temp_array=None\n",
    "    return im"
   ]
  },
  {
   "cell_type": "code",
   "execution_count": 72,
   "metadata": {},
   "outputs": [],
   "source": [
    "images=os.listdir('../datasets/BOSSbase_1.01_DATASET/BOSSbase_1.01')\n",
    "watermarks=os.listdir('./CoverImages')\n",
    "imgpath='../datasets/BOSSbase_1.01_DATASET/BOSSbase_1.01'\n",
    "wtrpath='./CoverImages'\n",
    "ssim_list=[]\n",
    "psnr_list=[]\n",
    "imagelist=[]\n",
    "watermarklist=[]\n",
    "ncc_list=[]\n",
    "c=0\n",
    "test_wtr=[watermarks[0],watermarks[1],watermarks[7],watermarks[5],watermarks[6]]\n",
    "\n",
    "# i=watermarks[0]\n",
    "for i in test_wtr:\n",
    "    count=0\n",
    "    wtr_img=watermark_read(os.path.join(wtrpath,i))\n",
    "    name_folder=i.split('.')\n",
    "    name_folder=name_folder[0]\n",
    "    path=f'D:/CS/Sem_6/Project/Practice/Output/METHOD1_32/salt&peeper/{name_folder}'\n",
    "    os.mkdir(path)\n",
    "    for j in images:\n",
    "        img=img_read(os.path.join(imgpath,j))\n",
    "        watermarked_img,stego_key=embedding(img,wtr_img)\n",
    "        wrow,wcol=wtr_img.shape\n",
    "        name=\"wtr_\"+i+'_host_'+j\n",
    "        cv2.imwrite(os.path.join(path,f'{name}_noAtk.jpg'),watermarked_img)\n",
    "        # stego=cv2.imread(os.path.join(path,f'{name}_noAtk.jpg'),0)\n",
    "\n",
    "\n",
    "        # atk=np.round(watermarked_img)\n",
    "        # # for i in range(atk.shape[0]):\n",
    "        # #     for j in range(atk.shape[1]):\n",
    "        # #         atk[i][j]=int(atk[i][j])\n",
    "        # atk=atk.astype('uint8')\n",
    "        # atk=cv2.equalizeHist(atk)\n",
    "\n",
    "\n",
    "        # atk=crop(watermarked_img,20)\n",
    "\n",
    "        ###Rotation\n",
    "        # import imutils\n",
    "        # atk=imutils.rotate(watermarked_img,45)\n",
    "        # generated_with_atk=recover(imutils.rotate(atk,-45),stego_key,wrow,wcol)\n",
    "        # generated_img=recover(watermarked_img,stego_key,wrow,wcol)\n",
    "\n",
    "\n",
    "        # atk=medianfilter(watermarked_img)\n",
    "        atk=salt_pepper(watermarked_img,0.001)\n",
    "        generated_with_atk=recover(atk,stego_key,wrow,wcol)\n",
    "        generated_img=recover(watermarked_img,stego_key,wrow,wcol)\n",
    "        \n",
    "\n",
    "        # path=f'D:/CS/Sem 6/Project/Practice/Output/BOSBaseUsingUMatrixMethod/{name_folder}'\n",
    "        cv2.imwrite(os.path.join(path,f'{name}_withAtk.jpg'),atk)\n",
    "        cv2.imwrite(os.path.join(path,f'{name}_watermark.jpg'),generated_img)\n",
    "        cv2.imwrite(os.path.join(path,f'{name}_watermarkOriginal.jpg'),wtr_img)\n",
    "        cv2.imwrite(os.path.join(path,f'{name}_watermarkWithAtk.jpg'),generated_with_atk)\n",
    "        # ssim_score=ssim(wtr_img,generated_with_atk)\n",
    "        psnr_score=PSNR(img,watermarked_img)\n",
    "        psnr_list.append(psnr_score)\n",
    "        # ssim_list.append(ssim_score)\n",
    "        temp1=cv2.imread(os.path.join(path,f'{name}_watermarkOriginal.jpg'))\n",
    "        temp2=cv2.imread(os.path.join(path,f'{name}_watermarkWithAtk.jpg'))\n",
    "        imagelist.append(j)\n",
    "        watermarklist.append(i)\n",
    "        nccscore=ncc(temp1,temp2)\n",
    "        ncc_list.append(nccscore)\n",
    "        count+=1\n",
    "        if count>=20:\n",
    "            break\n",
    "    c+=1\n"
   ]
  },
  {
   "cell_type": "code",
   "execution_count": 73,
   "metadata": {},
   "outputs": [
    {
     "name": "stdout",
     "output_type": "stream",
     "text": [
      "[0.9398859427407024, 0.912028269208311, 0.912028269208311, 0.912028269208311, 0.9200967956305864, 0.912028269208311, 0.912028269208311, 0.912028269208311, 0.9291646490582856, 0.9221639046703324, 0.912028269208311, 0.912028269208311, 0.912028269208311, 0.912028269208311, 0.912028269208311, 0.912028269208311, 0.9201500049735097, 0.912028269208311, 0.912028269208311, 0.912028269208311, 0.9197521186731903, 0.9043713678081966, 0.9043713678081966, 0.9043713678081966, 0.9053985636652039, 0.9043713678081966, 0.9043713678081966, 0.9043713678081966, 0.9098042430863859, 0.9134247925354159, 0.9043713678081966, 0.9043713678081966, 0.9043713678081966, 0.9043713678081966, 0.9043713678081966, 0.9043713678081966, 0.9043713678081966, 0.9043713678081966, 0.9043713678081966, 0.9043713678081966, 0.9413144167258145, 0.9308093691062631, 0.9308093691062631, 0.9308093691062631, 0.9399436781143793, 0.9308093691062631, 0.9308093691062631, 0.9308093691062631, 0.9287059168822416, 0.9271586818656609, 0.9308093691062631, 0.9308093691062631, 0.9308093691062631, 0.9308093691062631, 0.9308093691062631, 0.9308093691062631, 0.9308093691062631, 0.9308093691062631, 0.9308093691062631, 0.9308093691062631, 0.9509179766657341, 0.9426243049301307, 0.9426243049301307, 0.9426243049301307, 0.9428645776465336, 0.9426243049301307, 0.9426243049301307, 0.9426243049301307, 0.9482243734274574, 0.9440259518344528, 0.9426243049301307, 0.9426243049301307, 0.9426243049301307, 0.9426243049301307, 0.9426243049301307, 0.9426243049301307, 0.9426243049301307, 0.9426243049301307, 0.9426243049301307, 0.9426243049301307, 0.9312003292444128, 0.9070463726003332, 0.9070463726003332, 0.9070463726003332, 0.908250113119498, 0.9070463726003332, 0.9070463726003332, 0.9070463726003332, 0.9217308378333096, 0.9228545307602571, 0.9070463726003332, 0.9070463726003332, 0.9070463726003332, 0.9070463726003332, 0.9070463726003332, 0.9070463726003332, 0.9156607753294324, 0.9070463726003332, 0.9070463726003332, 0.9070463726003332]\n"
     ]
    }
   ],
   "source": [
    "print(ncc_list)"
   ]
  },
  {
   "cell_type": "code",
   "execution_count": 74,
   "metadata": {},
   "outputs": [],
   "source": [
    "import pandas as pd\n",
    "col=['Image','Watermark','NCC','PSNR']\n",
    "df=pd.DataFrame(columns=col)\n",
    "df['Image']=imagelist\n",
    "df['Watermark']=watermarklist\n",
    "# df['SSIM']=ssim_list\n",
    "df['NCC']=ncc_list\n",
    "df['PSNR']=psnr_list\n",
    "df.to_csv('./Output/METHOD1_32/32old_salt&peeper.csv')"
   ]
  },
  {
   "cell_type": "code",
   "execution_count": 66,
   "metadata": {},
   "outputs": [],
   "source": [
    "# t1=cv2.imread('./Output/METHOD1/airplane/wtr_airplane.tiff_host_1.pgm_watermark.jpg',0)\n",
    "# t2=cv2.imread('./Output/METHOD1/airplane/wtr_airplane.tiff_host_1.pgm_watermarkWithAtk.jpg',0)\n",
    "# print(ncc(t1,t2))"
   ]
  },
  {
   "cell_type": "code",
   "execution_count": 67,
   "metadata": {},
   "outputs": [],
   "source": [
    "# print(ncc_list)"
   ]
  },
  {
   "attachments": {},
   "cell_type": "markdown",
   "metadata": {},
   "source": [
    "* Test"
   ]
  },
  {
   "cell_type": "code",
   "execution_count": 68,
   "metadata": {},
   "outputs": [],
   "source": [
    "# mat=[[1,2,3,4],[12,23,45,10],[3,60,34,5],[2,5,6,14]]\n",
    "# print(mat)\n",
    "# wtr_img=np.array([10])\n",
    "# LL,(HL,LH,HH)=pywt.dwt2(mat,wavelet='haar')\n",
    "# print(\"LL\")\n",
    "# print(LL)\n",
    "# l2x2=LL.reshape(-1,2,2)\n",
    "# sstore=[]\n",
    "# ustore=[]\n",
    "# vstore=[]\n",
    "# for i in l2x2:\n",
    "#     u,s,v=np.linalg.svd(i)\n",
    "#     ustore.append(u)\n",
    "#     vstore.append(v)\n",
    "#     sstore.append(s)\n",
    "# ss=np.array(sstore)\n",
    "# print(\"U\")\n",
    "# print(ustore)\n",
    "# print(\"S Matrix\")\n",
    "# print(ss)\n",
    "# print(\"v\")\n",
    "# print(vstore)\n",
    "# ss_backup=ss.copy()\n",
    "# h2x2=HH.reshape(-1,2,2) #Store the ss_backup into HH\n",
    "# uu=[]\n",
    "# sss=ss_backup.ravel()\n",
    "# maxs=max(sss)\n",
    "# stemp=[]\n",
    "# vv=[]\n",
    "# newHH=[]\n",
    "# for i in h2x2:\n",
    "#     u,s,v=np.linalg.svd(i)\n",
    "#     uu.append(u)\n",
    "#     vv.append(v)\n",
    "#     stemp.append(s)\n",
    "# stemp=np.array(stemp)\n",
    "# stemp=ss_backup\n",
    "# for i in range(len(stemp)):\n",
    "#     u=uu[i]\n",
    "#     v=vv[i]\n",
    "#     s=stemp[i]/maxs\n",
    "#     temp=u@np.diag(s)@v\n",
    "#     newHH.append(temp)\n",
    "# newHH=np.array(newHH)\n",
    "# newHH=newHH.ravel()\n",
    "# newHH=newHH.reshape(2,2)\n",
    "# # HH=newHH\n",
    "# wtr_list=wtr_img.ravel()\n",
    "# # print(wtr_list[3])\n",
    "# j=0\n",
    "# seqnum=randomseq(1)\n",
    "# for i in seqnum:\n",
    "#     ss[i][0]+=wtr_list[j]/60\n",
    "#     j+=1    \n",
    "# newll=[]\n",
    "# print(\"S matrix after embedding\")\n",
    "# print(ss)\n",
    "# for i in range(len(ss)):\n",
    "#     u=ustore[i]\n",
    "#     v=vstore[i]\n",
    "#     s=ss[i]\n",
    "#     temp=u@np.diag(s)@v\n",
    "#     newll.append(temp)\n",
    "# newll=np.array(newll)\n",
    "# newll=newll.ravel()\n",
    "# row,col=LL.shape\n",
    "# newll=newll.reshape(row,col)\n",
    "# print(\"LL after embedding\")\n",
    "# print(newll)\n",
    "# watermarked_img=pywt.idwt2((newll,(HL,LH,HH)),wavelet='haar')\n",
    "# print(\"Watermarked Data after embedding\")\n",
    "# print(watermarked_img)"
   ]
  },
  {
   "cell_type": "code",
   "execution_count": 69,
   "metadata": {},
   "outputs": [],
   "source": [
    "# dLL,(dHL,dLH,dHH)=pywt.dwt2(watermarked_img,wavelet='haar')\n",
    "# dl2x2=dLL.reshape(-1,2,2)\n",
    "# dh2x2=dHH.reshape(-1,2,2)\n",
    "# sstore2=[]\n",
    "# ustore=[]\n",
    "# vstore=[]\n",
    "# uu2=[]\n",
    "# vv2=[]\n",
    "# ss2=[]\n",
    "# # for i in dh2x2:\n",
    "# #     u,s,v=np.linalg.svd(i)\n",
    "# #     # s=s.round()\n",
    "# #     uu2.append(u)\n",
    "# #     vv2.append(v)\n",
    "# #     ss2.append(s*maxs)\n",
    "# # ss2=np.array(ss2)\n",
    "# for i in dl2x2:\n",
    "#     u,s,v=np.linalg.svd(i)\n",
    "#     # s=s.round()\n",
    "#     ustore.append(u)\n",
    "#     vstore.append(v)\n",
    "#     sstore2.append(s)\n",
    "# sstore2=np.array(sstore2)\n",
    "# rec_wtr=[]\n",
    "# seqnum=randomseq(1)\n",
    "# for i in seqnum:\n",
    "#     temp=(sstore2[i][0]-stemp[i][0])*60\n",
    "#     rec_wtr.append(temp)\n",
    "# rec_wtr=np.array(rec_wtr)\n",
    "# # print(rec_wtr)\n",
    "# final_img=rec_wtr.reshape(1)\n",
    "# temp_im=np.round(final_img)\n",
    "# temp_im[0]=int(temp_im[0])\n",
    "# print(\"Recovered Image\")\n",
    "# print(temp_im)"
   ]
  },
  {
   "cell_type": "code",
   "execution_count": 70,
   "metadata": {},
   "outputs": [
    {
     "name": "stdout",
     "output_type": "stream",
     "text": [
      "42.5015044487379\n",
      "float64\n"
     ]
    }
   ],
   "source": [
    "from tifffile import imsave,imread\n",
    "im1=cv2.imread('./CoverImages/lena.tiff',0)\n",
    "im2,skey=embedding(im1,wtr_img)\n",
    "# cv2.imwrite('./tempim.png',im2)\n",
    "# im2=cv2.imread('./tempim.png',0)\n",
    "# LL,(HL,LH,HH)=pywt.dwt2(im2,wavelet='haar')\n",
    "\n",
    "# LL=np.round(LL)\n",
    "# # HL=np.round(HL)\n",
    "# # LH=np.round(LH)\n",
    "# # HH=np.round(HH)\n",
    "# im2=pywt.idwt2((LL,(HL,LH,HH)),wavelet='haar')\n",
    "\n",
    "# im2=im2.astype(int)\n",
    "print(PSNR(im2,im1))\n",
    "print(im2.dtype)\n",
    "# im2=gauss_noise(im2,0.1,0.01)\n",
    "# imsave('result.tif',im2)\n",
    "# im2=imread('result.tif')\n",
    "# plt.imshow(im2,cmap='gray')\n",
    "# newim=recover(im2,skey,128,128)\n",
    "# print(ncc(newim,wtr_img))\n",
    "# plt.imshow(newim,cmap='gray')"
   ]
  }
 ],
 "metadata": {
  "kernelspec": {
   "display_name": "Python 3",
   "language": "python",
   "name": "python3"
  },
  "language_info": {
   "codemirror_mode": {
    "name": "ipython",
    "version": 3
   },
   "file_extension": ".py",
   "mimetype": "text/x-python",
   "name": "python",
   "nbconvert_exporter": "python",
   "pygments_lexer": "ipython3",
   "version": "3.10.11"
  },
  "orig_nbformat": 4,
  "vscode": {
   "interpreter": {
    "hash": "a8fce425ec04ce098889a7b456cfd25aeb22f7524c41fa0e52b84291bf9e447c"
   }
  }
 },
 "nbformat": 4,
 "nbformat_minor": 2
}
