{
 "cells": [
  {
   "cell_type": "code",
   "execution_count": 1,
   "metadata": {},
   "outputs": [],
   "source": [
    "import cv2\n",
    "import numpy as np\n",
    "import matplotlib.pyplot as plt\n",
    "import pywt\n",
    "from math import log10, sqrt\n",
    "import pydicom as dcm\n",
    "import os\n",
    "import pandas as pd\n",
    "import csv\n",
    "import imutils"
   ]
  },
  {
   "cell_type": "code",
   "execution_count": 2,
   "metadata": {},
   "outputs": [],
   "source": [
    "def img_read(x):\n",
    "    img=cv2.imread(x,0)\n",
    "    return img\n",
    "def watermark_read(x):\n",
    "    wtr_img=cv2.imread(x,0)\n",
    "    wtr_img=cv2.resize(wtr_img,(64,64))\n",
    "    return wtr_img"
   ]
  },
  {
   "cell_type": "code",
   "execution_count": 3,
   "metadata": {},
   "outputs": [],
   "source": [
    "import random\n",
    "def hcf(a,b):\n",
    "    if(b%a==0):\n",
    "        return a\n",
    "    else:\n",
    "        return hcf(b%a,a)\n",
    "def randomseq(size):\n",
    "    random.seed(size)\n",
    "    \n",
    "    num=[x for x in range(size)]\n",
    "    h=len(num)\n",
    "    for m in range(h):\n",
    "        if m>2:\n",
    "            r=hcf(m,h)\n",
    "            if r==1:\n",
    "                break \n",
    "    i=random.randint(0,size-1)    \n",
    "    x=i\n",
    "    res=[]\n",
    "    while True:\n",
    "        i=(i+m)%h\n",
    "        if i==x:\n",
    "            break\n",
    "        res.append(i)\n",
    "        \n",
    "    res.append(x)\n",
    "    return res"
   ]
  },
  {
   "cell_type": "code",
   "execution_count": 4,
   "metadata": {},
   "outputs": [],
   "source": [
    "def toBinary(j):\n",
    "    temp=bin(j).replace('0b',\"\")\n",
    "    temp2=temp[::-1]\n",
    "    while len(temp2)<8:\n",
    "        temp2+='0'\n",
    "    temp=temp2[::-1]\n",
    "    if(j<0):\n",
    "        temp=temp.replace('-',\"\")\n",
    "        temp[1:]\n",
    "        temp=\"1\"+temp\n",
    "    return temp\n",
    "def toDecimal(j):\n",
    "    temp=str(j)\n",
    "    temp2=temp[::-1]\n",
    "    while(len(temp2)<8):\n",
    "        temp2+='0'\n",
    "    temp=temp2[::-1]\n",
    "    j=temp\n",
    "    # if(j[0]==\"1\"):\n",
    "    #     j=j[1:]\n",
    "    #     return -int(j,2)\n",
    "    # else:\n",
    "    #     j=j[1:]\n",
    "    #     return int(j,2)\n",
    "    return int(j,2)\n"
   ]
  },
  {
   "cell_type": "code",
   "execution_count": 5,
   "metadata": {},
   "outputs": [],
   "source": [
    "\n",
    "def calcRedundantBits(m):\n",
    "\tfor i in range(m):\n",
    "\t\tif(2**i >= m + i + 1):\n",
    "\t\t\treturn i\n",
    "\n",
    "def posRedundantBits(data, r):\n",
    "\tj = 0\n",
    "\tk = 1\n",
    "\tm = len(data)\n",
    "\tres = ''\n",
    "\tfor i in range(1, m + r+1):\n",
    "\t\tif(i == 2**j):\n",
    "\t\t\tres = res + '0'\n",
    "\t\t\tj += 1\n",
    "\t\telse:\n",
    "\t\t\tres = res + data[-1 * k]\n",
    "\t\t\tk += 1\n",
    "\treturn res[::-1]\n",
    "\n",
    "\n",
    "def calcParityBits(arr, r):\n",
    "\tn = len(arr)\n",
    "\tfor i in range(r):\n",
    "\t\tval = 0\n",
    "\t\tfor j in range(1, n + 1):\n",
    "\t\t\tif(j & (2**i) == (2**i)):\n",
    "\t\t\t\tval = val ^ int(arr[-1 * j])\n",
    "\t\tarr = arr[:n-(2**i)] + str(val) + arr[n-(2**i)+1:]\n",
    "\treturn arr\n",
    "\n",
    "\n",
    "def detectError(arr, nr):\n",
    "\tn = len(arr)\n",
    "\tres = 0\n",
    "\tfor i in range(nr):\n",
    "\t\tval = 0\n",
    "\t\tfor j in range(1, n + 1):\n",
    "\t\t\tif(j & (2**i) == (2**i)):\n",
    "\t\t\t\tval = val ^ int(arr[-1 * j])\n",
    "\t\tres = res + val*(10**i)\n",
    "\treturn int(str(res), 2)\n",
    "\n",
    "def implementecc(bindata):\n",
    "\toutput=''\n",
    "\tfor i in range(0,len(bindata),8):\n",
    "\t\tdata=bindata[i:i+8]\n",
    "\t\tm=len(data)\n",
    "\t\tr=calcRedundantBits(m)\n",
    "\t\tarr=posRedundantBits(data,r)\n",
    "\t\tarr=calcParityBits(arr,r)\n",
    "\t\toutput+=str(arr)\n",
    "\treturn output,r\n",
    "\n",
    "def removeerror(outdata,r):\n",
    "\toutput=''\n",
    "\tfor i in range(0,len(outdata),12):\n",
    "\t\tdata=outdata[i:i+12]\n",
    "\t\tpos=detectError(data,r)\n",
    "\t\tif pos==0:\n",
    "\t\t\ttemp=data[0:4]+data[5:8]+data[9]\n",
    "\t\telse:\n",
    "\t\t\tpos=len(data)-pos+1\n",
    "\t\t\tif data[pos-1]=='0':\n",
    "\t\t\t\tdata=data[0:pos-1]+'1'+data[pos:]\n",
    "\t\t\telse:\n",
    "\t\t\t\tdata=data[0:pos-1]+'0'+data[pos:]\n",
    "\t\t\ttemp=data[0:4]+data[5:8]+data[9]\t\n",
    "\t\toutput+=temp\n",
    "\treturn output\n"
   ]
  },
  {
   "cell_type": "code",
   "execution_count": 6,
   "metadata": {},
   "outputs": [],
   "source": [
    "def binarycoversion(wtr_img):\n",
    "    list_wtr_img=\"\"\n",
    "    for i in wtr_img:\n",
    "        for j in i:\n",
    "            list_wtr_img+=toBinary(j)\n",
    "    return list_wtr_img"
   ]
  },
  {
   "cell_type": "code",
   "execution_count": 7,
   "metadata": {},
   "outputs": [],
   "source": [
    "def embedding(img,list_wtr_img):\n",
    "    # wrow,wcol=wtr_img.shape\n",
    "    (row,col)=img.shape\n",
    "    # LL,(HL,LH,HH)=pywt.dwt2(img,wavelet='haar')\n",
    "    LL=img\n",
    "    lrow,lcol=LL.shape\n",
    "    l4x4=LL.reshape(-1,2,2)\n",
    "    ustore=[]\n",
    "    vstore=[]\n",
    "    sstore=[]\n",
    "    t=0\n",
    "    for i in l4x4:\n",
    "        u,s,v=np.linalg.svd(i)\n",
    "        t+=abs(u[0][0]-u[1][0])\n",
    "        # u[1,0],u[2,0]=u[2,0],u[1,0]\n",
    "        ustore.append(u)\n",
    "        vstore.append(v)\n",
    "        sstore.append(s)\n",
    "    t=t/len(ustore)\n",
    "    # print(list_wtr_img)\n",
    "    # len(ustore)\n",
    "    seq=randomseq(len(ustore))\n",
    "    k=0\n",
    "    for i in seq:\n",
    "        if k==len(list_wtr_img):\n",
    "            break\n",
    "        if list_wtr_img[k]=='0':\n",
    "            if ustore[i][0][0]<=ustore[i][1][0]:\n",
    "                ustore[i][0][0],ustore[i][1][0]=ustore[i][1][0],ustore[i][0][0]\n",
    "            if ustore[i][0][0]-ustore[i][1][0]<t:\n",
    "                ustore[i][0][0]+=t/2\n",
    "                ustore[i][1][0]-=t/2\n",
    "        else:\n",
    "            if ustore[i][0][0]>ustore[i][1][0]:\n",
    "                ustore[i][0][0],ustore[i][1][0]=ustore[i][1][0],ustore[i][0][0]\n",
    "            if ustore[i][1][0]-ustore[i][0][0]<t:\n",
    "                ustore[i][1][0]+=t/2\n",
    "                ustore[i][0][0]-=t/2\n",
    "        k+=1\n",
    "    newll=[]\n",
    "    for i in range(len(sstore)):\n",
    "        u=ustore[i]\n",
    "        v=vstore[i]\n",
    "        s=sstore[i]\n",
    "        temp=u@np.diag(s)@v\n",
    "        newll.append(temp)\n",
    "    newll=np.array(newll)\n",
    "    newll=newll.ravel()\n",
    "    newll=newll.reshape(lrow,lcol)\n",
    "    # plt.imshow(newll,cmap='gray')\n",
    "    # watermarked_img=pywt.idwt2((newll,(HL,LH,HH)),wavelet='haar')\n",
    "    return newll"
   ]
  },
  {
   "cell_type": "code",
   "execution_count": 8,
   "metadata": {},
   "outputs": [],
   "source": [
    "def recover(watermarked_img,l):\n",
    "    # dLL,(dHL,dLH,dHH)=pywt.dwt2(watermarked_img,wavelet='haar')\n",
    "    dLL=watermarked_img\n",
    "    dl2x2=dLL.reshape(-1,2,2)\n",
    "    rec=''\n",
    "\n",
    "    seq=randomseq(dl2x2.shape[0])\n",
    "    k=0\n",
    "    for i in seq:\n",
    "        if k==l:\n",
    "            break\n",
    "        u,s,v=np.linalg.svd(dl2x2[i])\n",
    "        if u[0][0]>u[1][0]:\n",
    "            rec+='0'\n",
    "        else:\n",
    "            rec+='1'\n",
    "        k+=1\n",
    "    # generated_wtr=np.zeros((wrow,wcol),dtype='uint8')\n",
    "    # count=0\n",
    "    # for i in range(wrow):\n",
    "    #     for j in range(wcol):\n",
    "    #         temp=rec[count:count+8]\n",
    "    #         count+=8\n",
    "    #         generated_wtr[i,j]=toDecimal(temp)\n",
    "    # return generated_wtr\n",
    "    return rec"
   ]
  },
  {
   "cell_type": "code",
   "execution_count": 9,
   "metadata": {},
   "outputs": [],
   "source": [
    "def decodewatermark(rec,wrow,wcol):\n",
    "    generated_wtr=np.zeros((wrow,wcol),dtype='uint8')\n",
    "    count=0\n",
    "    for i in range(wrow):\n",
    "        for j in range(wcol):\n",
    "            temp=rec[count:count+8]\n",
    "            count+=8\n",
    "            generated_wtr[i,j]=toDecimal(temp)\n",
    "    return generated_wtr"
   ]
  },
  {
   "cell_type": "code",
   "execution_count": 10,
   "metadata": {},
   "outputs": [],
   "source": [
    "def umatrixwatermarking(cover,wtr_img):\n",
    "    bstring1=binarycoversion(wtr_img)\n",
    "    bstring=bstring1\n",
    "    extra=8-len(bstring)%8\n",
    "    if extra!=8:\n",
    "        for i in range(extra):\n",
    "            bstring+='0'\n",
    "    else:\n",
    "        extra=0\n",
    "    newbstring,r=implementecc(bstring)\n",
    "    stego=embedding(cover,newbstring)\n",
    "    return stego,len(newbstring),r,extra,bstring1\n",
    "def umatrixextraction(stego,l,r,extra):\n",
    "    decoded=recover(stego,l)\n",
    "    org=removeerror(decoded,r)\n",
    "    if extra!=0:\n",
    "        org=org[0:-extra]\n",
    "    # input_string=int(org,2)\n",
    "    # decoded_str=input_string.to_bytes((input_string.bit_length()+7)//8,'big').decode()\n",
    "    # return decoded_str,org_dec\n",
    "    return org"
   ]
  },
  {
   "cell_type": "code",
   "execution_count": 11,
   "metadata": {},
   "outputs": [],
   "source": [
    "from sklearn.metrics import mean_squared_error\n",
    "\n",
    "def PSNR(original, compressed):\n",
    "    mse = np.mean((original - compressed) ** 2)\n",
    "    try:\n",
    "        max_pixel = 255.0\n",
    "        psnr = 20 * log10(max_pixel / sqrt(mse))\n",
    "        return psnr\n",
    "    except:\n",
    "        return -9999  #When MSE is Zero, i.e, no noise is present in the image"
   ]
  },
  {
   "cell_type": "code",
   "execution_count": 12,
   "metadata": {},
   "outputs": [],
   "source": [
    "import random\n",
    "def salt_pepper(img,p):\n",
    "    new=img.copy()\n",
    "    x,y=img.shape\n",
    "    pixels=int(x*y*p)\n",
    "    sp=[]\n",
    "    for i in range(pixels):\n",
    "        sp.append((random.randint(0,y-1),random.randint(0,x-1),random.choice([0,4096])))\n",
    "    for i,j,v in sp:\n",
    "        new[i,j]=v\n",
    "    return new\n",
    "def gauss_noise(img,mean,variance):\n",
    "    s=variance**2\n",
    "    x,y=img.shape\n",
    "    r=np.random.normal(mean,s,(y,x))\n",
    "    return img+r\n",
    "from skimage.metrics import structural_similarity\n",
    "\n",
    "def ssim(name,name1):\n",
    "    return structural_similarity(name,name1)\n",
    "def crop(img,d):\n",
    "    new=img.copy()\n",
    "    x,y=img.shape\n",
    "    x1=(x-d)//2\n",
    "    y1=(y-d)//2\n",
    "    new[y1:y1+d,x1:x1+d]=255\n",
    "    return new"
   ]
  },
  {
   "cell_type": "code",
   "execution_count": 13,
   "metadata": {},
   "outputs": [],
   "source": [
    "def norm_data(data):\n",
    "    mean_data=np.mean(data)\n",
    "    std_data=np.std(data,ddof=1)\n",
    "    return (data-mean_data)/(std_data)\n",
    "def ncc(data0,data1):\n",
    "    c=(1.0/(data0.size-1))*np.sum(norm_data(data0)*norm_data(data1))\n",
    "    return c"
   ]
  },
  {
   "cell_type": "code",
   "execution_count": 14,
   "metadata": {},
   "outputs": [],
   "source": [
    "def medianfilter(img):\n",
    "    im=img.copy()\n",
    "    rows=im.shape[0]\n",
    "    cols=im.shape[1]\n",
    "    for i in range(1,rows-1):\n",
    "        for j in range(1,cols-1):\n",
    "            temp_array=[im[i][j],im[i-1][j],im[i+1][j],im[i][j-1],im[i][j+1],im[i-1][j-1],im[i-1][j+1],im[i+1][j-1],im[i+1][j+1]]\n",
    "            temp_array.sort()\n",
    "            # print(temp_array)\n",
    "            im[i][j]=temp_array[4]\n",
    "            temp_array=None\n",
    "    return im"
   ]
  },
  {
   "cell_type": "code",
   "execution_count": 15,
   "metadata": {},
   "outputs": [],
   "source": [
    "# # images=os.listdir('../datasets/BOSSbase_1.01_DATASET/BOSSbase_1.01')\n",
    "# images=os.listdir('./CoverImages')\n",
    "# watermarks=os.listdir('./CoverImages')\n",
    "# # imgpath='../datasets/BOSSbase_1.01_DATASET/BOSSbase_1.01'\n",
    "# imgpath='./CoverImages'\n",
    "# wtrpath='./CoverImages'\n",
    "# ssim_list=[]\n",
    "# psnr_list=[]\n",
    "# imagelist=[]\n",
    "# watermarklist=[]\n",
    "# ncc_list=[]\n",
    "# c=0\n",
    "# test_wtr=[watermarks[0],watermarks[1],watermarks[7]]\n",
    "\n",
    "# # i=watermarks[0]\n",
    "# for i in test_wtr:\n",
    "#     count=0\n",
    "#     wtr_img=watermark_read(os.path.join(wtrpath,i))\n",
    "#     name_folder=i.split('.')\n",
    "#     name_folder=name_folder[0]\n",
    "#     path=f'D:/CS/Sem_6/Project/Completed Work/Output/SIPIU/rotate45/{name_folder}'\n",
    "#     os.mkdir(path)\n",
    "#     for j in images:\n",
    "#         img=img_read(os.path.join(imgpath,j))\n",
    "#         watermarked_img=embedding(img,wtr_img)\n",
    "#         wrow,wcol=wtr_img.shape\n",
    "#         name=\"wtr_\"+i+'_host_'+j\n",
    "#         cv2.imwrite(os.path.join(path,f'{name}_noAtk.jpg'),watermarked_img)\n",
    "\n",
    "\n",
    "\n",
    "#         # atk=crop(watermarked_img,50)\n",
    "#         atk=imutils.rotate(watermarked_img,45)\n",
    "#         # atk=gauss_noise(watermarked_img,0.01,0.01)\n",
    "#         # atk=salt_pepper(watermarked_img,0.001)\n",
    "#         # atk=np.round(watermarked_img)\n",
    "#         # for i in range(atk.shape[0]):\n",
    "#         #     for j in range(atk.shape[1]):\n",
    "#         #         atk[i][j]=int(atk[i][j])\n",
    "#         # atk=watermarked_img.astype('uint8')\n",
    "#         # atk=cv2.equalizeHist(atk)\n",
    "#         # atk=medianfilter(watermarked_img)\n",
    "\n",
    "#         # atk=cv2.imread(os.path.join(path,f'{name}_noAtk.jpg'),0)\n",
    "#         atk2=imutils.rotate(atk,-45)\n",
    "#         generated_with_atk=recover(atk2,wrow,wcol)\n",
    "#         generated_img=recover(watermarked_img,wrow,wcol)\n",
    "\n",
    "\n",
    "\n",
    "\n",
    "\n",
    "\n",
    "#         # path=f'D:/CS/Sem 6/Project/Practice/Output/BOSBaseUsingUMatrixMethod/{name_folder}'\n",
    "#         cv2.imwrite(os.path.join(path,f'{name}_withAtk.jpg'),atk)\n",
    "#         cv2.imwrite(os.path.join(path,f'{name}_watermark.jpg'),generated_img)\n",
    "#         cv2.imwrite(os.path.join(path,f'{name}_watermarkWithAtk.jpg'),generated_with_atk)\n",
    "#         ssim_score=ssim(wtr_img,generated_with_atk)\n",
    "#         psnr_score=PSNR(img,watermarked_img)\n",
    "#         psnr_list.append(psnr_score)\n",
    "#         ssim_list.append(ssim_score)\n",
    "#         imagelist.append(j)\n",
    "#         watermarklist.append(i)\n",
    "#         ncc_list.append(ncc(wtr_img,generated_with_atk))\n",
    "#         count+=1\n",
    "#         if count>=10:\n",
    "#             break\n",
    "#     c+=1\n"
   ]
  },
  {
   "cell_type": "code",
   "execution_count": 16,
   "metadata": {},
   "outputs": [],
   "source": [
    "# col=['Image','Watermark','SSIM','NCC','PSNR']\n",
    "# df=pd.DataFrame(columns=col)\n",
    "# df['Image']=imagelist\n",
    "# df['Watermark']=watermarklist\n",
    "# df['SSIM']=ssim_list\n",
    "# df['NCC']=ncc_list\n",
    "# df['PSNR']=psnr_list"
   ]
  },
  {
   "cell_type": "code",
   "execution_count": 17,
   "metadata": {},
   "outputs": [],
   "source": [
    "# df.to_csv('./Output/SIPIU/rotate45.csv')"
   ]
  },
  {
   "cell_type": "code",
   "execution_count": 18,
   "metadata": {},
   "outputs": [],
   "source": [
    "# import tifffile as tf\n",
    "# cover=cv2.imread(\"./CoverImages/lena.tiff\",0)\n",
    "# # cover+=2048\n",
    "# wtr=watermark_read('./CoverImages/peeper.tiff')\n",
    "# en,l,r,ex,b=umatrixwatermarking(cover,wtr)\n",
    "# # cv2.imwrite('./stegoattack.jpg',en)\n",
    "# # atk=img_read('./stegoattack.jpg')\n",
    "# # atk=salt_pepper(en,0.01)\n",
    "# # atk=medianfilter(en)\n",
    "# rec=umatrixextraction(en,64*64*12,4,0)\n",
    "# ret=decodewatermark(rec,wtr.shape[0],wtr.shape[1])\n",
    "# plt.imshow(ret,cmap='gray')"
   ]
  },
  {
   "cell_type": "code",
   "execution_count": 19,
   "metadata": {},
   "outputs": [],
   "source": [
    "# plt.imshow(en,cmap='gray')"
   ]
  },
  {
   "cell_type": "code",
   "execution_count": 20,
   "metadata": {},
   "outputs": [],
   "source": [
    "# PSNR(en,cover)"
   ]
  },
  {
   "cell_type": "code",
   "execution_count": 21,
   "metadata": {},
   "outputs": [
    {
     "name": "stdout",
     "output_type": "stream",
     "text": [
      "12288\n"
     ]
    }
   ],
   "source": [
    "print(32*32*12)"
   ]
  },
  {
   "cell_type": "code",
   "execution_count": 22,
   "metadata": {},
   "outputs": [],
   "source": [
    "# ex"
   ]
  },
  {
   "cell_type": "code",
   "execution_count": 23,
   "metadata": {},
   "outputs": [],
   "source": [
    "# ncc(wtr,ret)"
   ]
  },
  {
   "cell_type": "code",
   "execution_count": 24,
   "metadata": {},
   "outputs": [],
   "source": [
    "# coverpath='./CoverImages'\n",
    "# watermarkpath='./CoverImages'\n",
    "# images=os.listdir(coverpath)\n",
    "# watermarks=os.listdir(watermarkpath)\n",
    "# psnr_list=[]\n",
    "# imagelist=[]\n",
    "# watermarklist=[]\n",
    "# ncc_list=[]\n",
    "# c=0\n",
    "# test_wtr=[watermarks[0],watermarks[1],watermarks[7]]\n",
    "# for i in test_wtr:\n",
    "#     count=0\n",
    "#     wtr=watermark_read(os.path.join(watermarkpath,i))\n",
    "#     name_folder=i.split('.')\n",
    "#     name_folder=name_folder[0]\n",
    "#     path=f'D:/CS/Sem_6/Project/Completed Work/Output/HammingSIPIU/histeq/{name_folder}'\n",
    "#     os.mkdir(path)\n",
    "#     for j in images:\n",
    "#         cover=img_read(os.path.join(coverpath,j))\n",
    "#         en,l,r,ex,b=umatrixwatermarking(cover,wtr)\n",
    "\n",
    "\n",
    "#         # atk=crop(en,50)\n",
    "#         # atk=img_read(os.path.join(path,f'{name}_attacked.jpg'))\n",
    "#         # atk=salt_pepper(en,0.001)\n",
    "#         # atk=gauss_noise(en,0.01,0.01)\n",
    "#         # atk=crop(en,100)\n",
    "#         # atk=np.round(en)\n",
    "#         # for i in range(atk.shape[0]):\n",
    "#         #     for j in range(atk.shape[1]):\n",
    "#         #         atk[i][j]=int(atk[i][j])\n",
    "#         atk=en.astype('uint8')\n",
    "#         atk=cv2.equalizeHist(atk)\n",
    "\n",
    "\n",
    "#         rec=umatrixextraction(atk,l,r,ex)\n",
    "#         ret=decodewatermark(rec,wtr.shape[0],wtr.shape[1])\n",
    "\n",
    "#         name=\"wtr_\"+i+'_host_'+j\n",
    "#         cv2.imwrite(os.path.join(path,f'{name}_attacked.jpg'),atk)\n",
    "#         cv2.imwrite(os.path.join(path,f'{name}_stego.jpg'),en)\n",
    "#         cv2.imwrite(os.path.join(path,f'{name}_watermark.jpg'),wtr)\n",
    "#         cv2.imwrite(os.path.join(path,f'{name}_ret_wtr.jpg'),ret)\n",
    "#         psnr_score=PSNR(cover,en)\n",
    "#         psnr_list.append(psnr_score)\n",
    "#         imagelist.append(j)\n",
    "#         watermarklist.append(i)\n",
    "#         ncc_list.append(ncc(wtr,ret))\n",
    "#         count+=1\n",
    "#         if count>=10:\n",
    "#             break\n",
    "#     c+=1\n",
    "        "
   ]
  },
  {
   "cell_type": "code",
   "execution_count": 25,
   "metadata": {},
   "outputs": [],
   "source": [
    "# col=['Image','Watermark','NCC','PSNR']\n",
    "# df=pd.DataFrame(columns=col)\n",
    "# df['Image']=imagelist\n",
    "# df['Watermark']=watermarklist\n",
    "# df['NCC']=ncc_list\n",
    "# df['PSNR']=psnr_list"
   ]
  },
  {
   "cell_type": "code",
   "execution_count": 26,
   "metadata": {},
   "outputs": [],
   "source": [
    "# df.to_csv('./Output/HammingSIPIU/histeq.csv')"
   ]
  },
  {
   "cell_type": "code",
   "execution_count": 27,
   "metadata": {},
   "outputs": [],
   "source": [
    "im=img_read(\"xray1.jpeg\")\n",
    "wtr=watermark_read(\"logo.jpg\")"
   ]
  },
  {
   "cell_type": "code",
   "execution_count": 28,
   "metadata": {},
   "outputs": [
    {
     "data": {
      "text/plain": [
       "(512, 512)"
      ]
     },
     "execution_count": 28,
     "metadata": {},
     "output_type": "execute_result"
    }
   ],
   "source": [
    "cover=im[512:1024,512:1024]\n",
    "cover.shape"
   ]
  },
  {
   "cell_type": "code",
   "execution_count": 29,
   "metadata": {},
   "outputs": [],
   "source": [
    "en,l,r,ex,b=umatrixwatermarking(cover,wtr)\n",
    "en1=salt_pepper(en,0.001)\n",
    "en2=salt_pepper(en,0.002)\n",
    "en3=salt_pepper(en,0.003)\n",
    "en4=salt_pepper(en,0.004)\n",
    "en5=salt_pepper(en,0.005)\n",
    "\n",
    "rec1=umatrixextraction(en1,64*64*12,4,0)\n",
    "rec2=umatrixextraction(en2,64*64*12,4,0)\n",
    "rec3=umatrixextraction(en3,64*64*12,4,0)\n",
    "rec4=umatrixextraction(en4,64*64*12,4,0)\n",
    "rec5=umatrixextraction(en5,64*64*12,4,0)\n",
    "ret1=decodewatermark(rec1,wtr.shape[0],wtr.shape[1])\n",
    "ret2=decodewatermark(rec2,wtr.shape[0],wtr.shape[1])\n",
    "ret3=decodewatermark(rec3,wtr.shape[0],wtr.shape[1])\n",
    "ret4=decodewatermark(rec4,wtr.shape[0],wtr.shape[1])\n",
    "ret5=decodewatermark(rec5,wtr.shape[0],wtr.shape[1])\n",
    "\n",
    "nc1=ncc(wtr,ret1)\n",
    "nc2=ncc(wtr,ret2)\n",
    "nc3=ncc(wtr,ret3)\n",
    "nc4=ncc(wtr,ret4)\n",
    "nc5=ncc(wtr,ret5)\n",
    "\n",
    "\n",
    "# plt.imshow(ret,cmap='gray')\n"
   ]
  },
  {
   "cell_type": "code",
   "execution_count": 30,
   "metadata": {},
   "outputs": [
    {
     "name": "stdout",
     "output_type": "stream",
     "text": [
      "1.0000000000000002 0.9984017216688652 0.9984996875775819 0.9974547291623128 0.996830938351111\n"
     ]
    }
   ],
   "source": [
    "print(nc1,nc2,nc3,nc4,nc5)"
   ]
  },
  {
   "cell_type": "code",
   "execution_count": 31,
   "metadata": {},
   "outputs": [],
   "source": [
    "random_array = np.random.randint(0, 256, size=(512, 512))\n",
    "wtr_data=np.random.randint(0, 256, size=(32, 32))\n",
    "en,l,r,ex,b=umatrixwatermarking(random_array,wtr_data)\n",
    "rec=umatrixextraction(en,64*64*12,4,0)\n",
    "ret=decodewatermark(rec,wtr_data.shape[0],wtr_data.shape[1])"
   ]
  },
  {
   "cell_type": "code",
   "execution_count": 32,
   "metadata": {},
   "outputs": [
    {
     "data": {
      "text/plain": [
       "0.9122140015644646"
      ]
     },
     "execution_count": 32,
     "metadata": {},
     "output_type": "execute_result"
    }
   ],
   "source": [
    "ncc(wtr_data,ret)"
   ]
  },
  {
   "cell_type": "code",
   "execution_count": 33,
   "metadata": {},
   "outputs": [
    {
     "data": {
      "text/plain": [
       "array([[145, 155,  87, ..., 189, 158, 122],\n",
       "       [161,  13,  57, ..., 114, 109, 131],\n",
       "       [188,  91, 149, ..., 231,   5,  49],\n",
       "       ...,\n",
       "       [244,   9, 237, ...,   4,  66,  47],\n",
       "       [ 15, 162, 172, ...,  84, 232, 234],\n",
       "       [ 93,  72, 248, ..., 209,  15,  25]])"
      ]
     },
     "execution_count": 33,
     "metadata": {},
     "output_type": "execute_result"
    }
   ],
   "source": [
    "random_array"
   ]
  },
  {
   "cell_type": "code",
   "execution_count": 34,
   "metadata": {},
   "outputs": [],
   "source": [
    "# en.astype(int)"
   ]
  },
  {
   "cell_type": "code",
   "execution_count": 35,
   "metadata": {},
   "outputs": [
    {
     "data": {
      "text/plain": [
       "18.64297146838292"
      ]
     },
     "execution_count": 35,
     "metadata": {},
     "output_type": "execute_result"
    }
   ],
   "source": [
    "PSNR(random_array,en)"
   ]
  },
  {
   "cell_type": "code",
   "execution_count": 36,
   "metadata": {},
   "outputs": [],
   "source": [
    "image=img_read(\"./Coverimages/airplane.tiff\")\n",
    "test=image[0:8,0:8]\n",
    "watermark=watermark_read(\"./Coverimages/airplane.tiff\")\n",
    "twtr=watermark[0:1,0:1]\n",
    "en,l,r,ex,b=umatrixwatermarking(test,twtr)\n",
    "rec=umatrixextraction(en,1*1*12,4,0)\n",
    "ret=decodewatermark(rec,twtr.shape[0],twtr.shape[1])"
   ]
  },
  {
   "cell_type": "code",
   "execution_count": 37,
   "metadata": {},
   "outputs": [
    {
     "data": {
      "text/plain": [
       "array([[184]], dtype=uint8)"
      ]
     },
     "execution_count": 37,
     "metadata": {},
     "output_type": "execute_result"
    }
   ],
   "source": [
    "twtr"
   ]
  },
  {
   "cell_type": "code",
   "execution_count": 38,
   "metadata": {},
   "outputs": [
    {
     "data": {
      "text/plain": [
       "array([[184]], dtype=uint8)"
      ]
     },
     "execution_count": 38,
     "metadata": {},
     "output_type": "execute_result"
    }
   ],
   "source": [
    "ret"
   ]
  },
  {
   "cell_type": "code",
   "execution_count": 39,
   "metadata": {},
   "outputs": [
    {
     "data": {
      "text/plain": [
       "array([[ 65, 199, 193, 185, 179, 185, 191, 189],\n",
       "       [ 54, 196, 192, 195, 195, 192, 191, 192],\n",
       "       [ 54, 197, 194, 197, 195, 191, 191, 188],\n",
       "       [ 55, 187, 187, 188, 186, 180, 180, 182],\n",
       "       [ 62, 181, 180, 180, 180, 183, 182, 183],\n",
       "       [ 69, 174, 174, 178, 179, 179, 181, 186],\n",
       "       [ 72, 180, 179, 174, 174, 181, 179, 180],\n",
       "       [ 77, 176, 171, 168, 170, 175, 169, 174]], dtype=uint8)"
      ]
     },
     "execution_count": 39,
     "metadata": {},
     "output_type": "execute_result"
    }
   ],
   "source": [
    "test"
   ]
  },
  {
   "cell_type": "code",
   "execution_count": 40,
   "metadata": {},
   "outputs": [
    {
     "data": {
      "text/plain": [
       "'10111000'"
      ]
     },
     "execution_count": 40,
     "metadata": {},
     "output_type": "execute_result"
    }
   ],
   "source": [
    "binarycoversion(twtr)"
   ]
  },
  {
   "cell_type": "code",
   "execution_count": 41,
   "metadata": {},
   "outputs": [
    {
     "data": {
      "text/plain": [
       "array([[ 65, 199, 192, 185, 164, 170, 205, 203],\n",
       "       [ 54, 196, 191, 195, 177, 174, 208, 209],\n",
       "       [ 99, 262, 148, 131, 195, 191, 191, 188],\n",
       "       [ 55, 187, 187, 188, 200, 194, 165, 167],\n",
       "       [ 62, 180, 180, 179, 165, 168, 196, 197],\n",
       "       [107, 226, 135, 125, 179, 178, 180, 185],\n",
       "       [ 72, 180, 179, 174, 189, 197, 163, 163],\n",
       "       [107, 216, 140, 127, 155, 160, 183, 188]])"
      ]
     },
     "execution_count": 41,
     "metadata": {},
     "output_type": "execute_result"
    }
   ],
   "source": [
    "en.astype(int)"
   ]
  },
  {
   "cell_type": "code",
   "execution_count": 42,
   "metadata": {},
   "outputs": [
    {
     "data": {
      "text/plain": [
       "21.161000587119865"
      ]
     },
     "execution_count": 42,
     "metadata": {},
     "output_type": "execute_result"
    }
   ],
   "source": [
    "PSNR(test,en)"
   ]
  },
  {
   "cell_type": "code",
   "execution_count": 43,
   "metadata": {},
   "outputs": [
    {
     "name": "stdout",
     "output_type": "stream",
     "text": [
      "+----+-----+-----+-----+-----+-----+-----+-----+\n",
      "| 65 | 199 | 193 | 185 | 179 | 185 | 191 | 189 |\n",
      "+----+-----+-----+-----+-----+-----+-----+-----+\n",
      "| 54 | 196 | 192 | 195 | 195 | 192 | 191 | 192 |\n",
      "+----+-----+-----+-----+-----+-----+-----+-----+\n",
      "| 54 | 197 | 194 | 197 | 195 | 191 | 191 | 188 |\n",
      "+----+-----+-----+-----+-----+-----+-----+-----+\n",
      "| 55 | 187 | 187 | 188 | 186 | 180 | 180 | 182 |\n",
      "+----+-----+-----+-----+-----+-----+-----+-----+\n",
      "| 62 | 181 | 180 | 180 | 180 | 183 | 182 | 183 |\n",
      "+----+-----+-----+-----+-----+-----+-----+-----+\n",
      "| 69 | 174 | 174 | 178 | 179 | 179 | 181 | 186 |\n",
      "+----+-----+-----+-----+-----+-----+-----+-----+\n",
      "| 72 | 180 | 179 | 174 | 174 | 181 | 179 | 180 |\n",
      "+----+-----+-----+-----+-----+-----+-----+-----+\n",
      "| 77 | 176 | 171 | 168 | 170 | 175 | 169 | 174 |\n",
      "+----+-----+-----+-----+-----+-----+-----+-----+\n"
     ]
    }
   ],
   "source": [
    "from tabulate import tabulate\n",
    "print(tabulate(test,tablefmt=\"grid\"))"
   ]
  },
  {
   "cell_type": "code",
   "execution_count": 44,
   "metadata": {},
   "outputs": [
    {
     "data": {
      "image/png": "[encoded data removed]",
      "text/plain": [
       "<Figure size 640x480 with 1 Axes>"
      ]
     },
     "metadata": {},
     "output_type": "display_data"
    }
   ],
   "source": [
    "table = plt.table(cellText=test, loc='center', cellLoc='center')\n",
    "ax = plt.gca()\n",
    "ax.axis('off')\n",
    "plt.title(\"Cover data\")\n",
    "# Show the plot\n",
    "plt.show()"
   ]
  },
  {
   "cell_type": "code",
   "execution_count": null,
   "metadata": {},
   "outputs": [],
   "source": []
  }
 ],
 "metadata": {
  "kernelspec": {
   "display_name": "Python 3",
   "language": "python",
   "name": "python3"
  },
  "language_info": {
   "codemirror_mode": {
    "name": "ipython",
    "version": 3
   },
   "file_extension": ".py",
   "mimetype": "text/x-python",
   "name": "python",
   "nbconvert_exporter": "python",
   "pygments_lexer": "ipython3",
   "version": "3.11.3"
  },
  "orig_nbformat": 4
 },
 "nbformat": 4,
 "nbformat_minor": 2
}
